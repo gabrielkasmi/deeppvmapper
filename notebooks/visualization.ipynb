{
 "cells": [
  {
   "cell_type": "markdown",
   "id": "7662d8a2",
   "metadata": {},
   "source": [
    "# Visualization\n",
    "\n",
    "Plot the accuracy of the model on a map to visually inspect the accuracy outcomes of the model. \n",
    "\n",
    "<b> Requirements : </b> \n",
    "\n",
    "- `directory` : the directory in which the accuracy outcomes of the model are stored,\n",
    "- `aux_dir` : the directory in which the cities characteristics are stored,\n",
    "- `filename` : the name of the file containing the accuracy outcomes of the model.\n",
    "- `departements` : a list of departements for which the plots will be made\n"
   ]
  },
  {
   "cell_type": "code",
   "execution_count": null,
   "id": "ba172502",
   "metadata": {},
   "outputs": [],
   "source": [
    "import pandas as pd\n",
    "import numpy as np\n",
    "import os\n",
    "import geojson\n",
    "import folium\n",
    "import json"
   ]
  },
  {
   "cell_type": "code",
   "execution_count": null,
   "id": "8950a137",
   "metadata": {},
   "outputs": [],
   "source": [
    "# helper function : computes the overlay that will be displayed on the Folium map.\n",
    "\n",
    "def compute_geojson_overlay(results, communes_list):\n",
    "    \"\"\"\n",
    "    returns a geojson with the coordinates of the cities \n",
    "    and some of their properties. \n",
    "    \n",
    "    args : \n",
    "    - results : a datafame of results\n",
    "    - communes_list : a list of json files corresponding to the cities of the targeted departements.\n",
    "    \"\"\"\n",
    "    \n",
    "    # retrieve the polygons of the commune\n",
    "\n",
    "    target_communes = np.unique(results['city'].values)\n",
    "\n",
    "    features = []\n",
    "\n",
    "    for communes in communes_list:\n",
    "        for commune in communes.keys():\n",
    "            for target in target_communes:\n",
    "\n",
    "                    if int(target) == int(communes[commune]['properties']['code_insee']):\n",
    "\n",
    "                        polygon = communes[commune]['coordinates']\n",
    "\n",
    "                        polygon = geojson.Polygon(polygon)  \n",
    "\n",
    "                        ape = results[results['city'] == target]['APE'].values.item()\n",
    "\n",
    "                        properties = {\n",
    "                            'city' : int(target),\n",
    "                            'APE' : ape,\n",
    "                            'Nom' : communes[commune]['properties']['nom_commune']\n",
    "                        }\n",
    "\n",
    "                        features.append(geojson.Feature(geometry=polygon, properties=properties))\n",
    "\n",
    "    feature_collection = geojson.FeatureCollection(features)\n",
    "    \n",
    "    return feature_collection"
   ]
  },
  {
   "cell_type": "code",
   "execution_count": null,
   "id": "8bceac67",
   "metadata": {},
   "outputs": [],
   "source": [
    "# directories\n",
    "directory = 'evaluation/building'\n",
    "aux_dir = 'aux'\n",
    "filename = \"results_buildings.csv\"\n",
    "\n",
    "\n",
    "# departements : target departements to be plotted\n",
    "departements = [69, 34, 44, 59]\n",
    "# center location : the center of the map to be displayed\n",
    "center = [45.818701443200275, 4.804099378122765]"
   ]
  },
  {
   "cell_type": "code",
   "execution_count": null,
   "id": "79667e54",
   "metadata": {},
   "outputs": [],
   "source": [
    "# load the files and prepare the communes_list\n",
    "\n",
    "# results dataframe\n",
    "results = pd.read_csv(os.path.join(directory, filename))\n",
    "\n",
    "# communes coordinates\n",
    "# retrieve the \n",
    "communes_list = []\n",
    "\n",
    "for dpt in departements:\n",
    "\n",
    "    communes = json.load(open(os.path.join(aux_dir, 'communes_{}.json'.format(dpt))))\n",
    "    communes_list.append(communes)\n",
    "    \n",
    "# compute the geojson that will be displayed\n",
    "feature_collection = compute_geojson_overlay(results, communes_list)    \n",
    "        \n",
    "results.head()"
   ]
  },
  {
   "cell_type": "markdown",
   "id": "29fb92e4",
   "metadata": {},
   "source": [
    "## Example : plot the city-wise APE"
   ]
  },
  {
   "cell_type": "code",
   "execution_count": null,
   "id": "67b7d514",
   "metadata": {},
   "outputs": [],
   "source": [
    "\n",
    "# bins : to be manually set up for a better display.\n",
    "bins = [0, 15, 75, 100, 150, int(results['APE'].max()) + 1] \n",
    "\n",
    "m = folium.Map(location=center, zoom_start=9)\n",
    "\n",
    "folium.Choropleth(\n",
    "    geo_data = feature_collection,#geojson.load(open(\"geodata_results.geojson\")),                  #json\n",
    "    name ='APE',  \n",
    "    bins = bins,\n",
    "    data = results,                     \n",
    "    columns = ['city', 'APE'], #columns to work on\n",
    "    key_on ='properties.city',\n",
    "    fill_color ='YlOrBr',     #I passed colors Yellow,Green,Blue\n",
    "    fill_opacity = 0.7,\n",
    "    line_opacity = 0.2,\n",
    "legend_name = \"APE\"\n",
    ").add_to(m)\n",
    "\n",
    "style_dict = {\n",
    "        \"fillColor\": \"#ffff00\",\n",
    "        \"weight\": 0,\n",
    "    }\n",
    "# add an overlay with the commune properties (name, postal code and APE value)\n",
    "geo_json = folium.GeoJson(data=feature_collection, popup=folium.GeoJsonPopup(fields=['Nom', 'city', 'APE']), style_function= lambda feature: style_dict)\n",
    "geo_json.add_to(m)\n",
    "\n",
    "\n",
    "\n",
    "m"
   ]
  },
  {
   "cell_type": "code",
   "execution_count": null,
   "id": "9b113515",
   "metadata": {},
   "outputs": [],
   "source": [
    "# identifier une ville où il y a un bon résultat et une autre un mauvais, qui sont proches l'une de l'autre (cas pathologique)\n",
    "# insister sur le motif géographique et la représentativité"
   ]
  }
 ],
 "metadata": {
  "kernelspec": {
   "display_name": "dsfrance",
   "language": "python",
   "name": "dsfrance"
  },
  "language_info": {
   "codemirror_mode": {
    "name": "ipython",
    "version": 3
   },
   "file_extension": ".py",
   "mimetype": "text/x-python",
   "name": "python",
   "nbconvert_exporter": "python",
   "pygments_lexer": "ipython3",
   "version": "3.8.13"
  }
 },
 "nbformat": 4,
 "nbformat_minor": 5
}
